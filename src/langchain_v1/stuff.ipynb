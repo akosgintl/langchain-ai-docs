{
 "cells": [
  {
   "cell_type": "markdown",
   "id": "32610a5b-23ea-4880-8013-001b114b555a",
   "metadata": {},
   "source": [
    "---\n",
    "title: \"Stuff chain\"\n",
    "icon: \"Book\"\n",
    "---\n",
    "\n",
    "A chain that \"stuffs\" all the documents into the context to run summarization or extraction tasks."
   ]
  },
  {
   "cell_type": "code",
   "execution_count": 1,
   "id": "425ca669-9caa-4bea-a1e7-fab8e95210d8",
   "metadata": {},
   "outputs": [],
   "source": [
    "from langchain.chains import create_stuff_documents_chain\n",
    "from langchain.chat_models import init_chat_model\n",
    "from langchain.documents import Document"
   ]
  },
  {
   "cell_type": "code",
   "execution_count": 2,
   "id": "3488cf7a-1e7b-4d0a-83bc-307f10ce0344",
   "metadata": {},
   "outputs": [],
   "source": [
    "documents = [\n",
    "    Document(\n",
    "        page_content=(\n",
    "            \"Richard Feynman was born on May 11, 1918, in Queens, New York. He showed an early \"\n",
    "            \"interest in science, especially radios and engineering. As a teenager, he repaired \"\n",
    "            \"radios as a hobby and even earned some money doing it.\\n\\n\"\n",
    "            \"He attended the Massachusetts Institute of Technology (MIT) for his undergraduate \"\n",
    "            \"studies and later earned his PhD in physics from Princeton University in 1942. At \"\n",
    "            \"Princeton, he impressed many with his quick mind and problem-solving skills.\\n\\n\"\n",
    "            \"After completing his PhD, he joined the Los Alamos Laboratory as part of the Manhattan Project.\"\n",
    "        ),\n",
    "        metadata={\"source\": \"early_life\"},\n",
    "        id=\"1\"\n",
    "    ),\n",
    "    Document(\n",
    "        page_content=(\n",
    "            \"During World War II, Feynman worked on the Manhattan Project, the top-secret effort \"\n",
    "            \"to build the first atomic bomb. He was based at Los Alamos Laboratory in New Mexico.\\n\\n\"\n",
    "            \"There, he worked under physicist Hans Bethe and was known for his creativity and sense \"\n",
    "            \"of humor. One of his habits was picking locks and cracking safes—not to steal secrets, \"\n",
    "            \"but to prove how insecure they were.\\n\\n\"\n",
    "            \"Feynman’s contributions helped the U.S. develop nuclear weapons, which were used in \"\n",
    "            \"1945 to end the war.\"\n",
    "        ),\n",
    "        metadata={\"source\": \"manhattan_project\"},\n",
    "        id=\"2\"\n",
    "    ),\n",
    "    Document(\n",
    "        page_content=(\n",
    "            \"After the war, Feynman became a professor at Cornell University and later at the \"\n",
    "            \"California Institute of Technology (Caltech). In 1965, he won the Nobel Prize in \"\n",
    "            \"Physics for his work on quantum electrodynamics, shared with Julian Schwinger and \"\n",
    "            \"Sin-Itiro Tomonaga.\\n\\n\"\n",
    "            \"He became famous for his lectures, especially the Feynman Lectures on Physics, which \"\n",
    "            \"are still used today. In 1986, he served on the Rogers Commission that investigated \"\n",
    "            \"the Space Shuttle Challenger disaster.\\n\\n\"\n",
    "            \"Feynman died on February 15, 1988, in Los Angeles, California, after a long battle \"\n",
    "            \"with cancer.\"\n",
    "        ),\n",
    "        metadata={\"source\": \"later_career\"},\n",
    "        id=\"3\"\n",
    "    ),\n",
    "]\n"
   ]
  },
  {
   "cell_type": "markdown",
   "id": "e1a42b30-c290-419a-a0d7-60a1517eb0d0",
   "metadata": {},
   "source": [
    "## Summarization"
   ]
  },
  {
   "cell_type": "code",
   "execution_count": 3,
   "id": "a0581ab0-634a-447e-b8cb-bfe1ef1dde67",
   "metadata": {},
   "outputs": [
    {
     "name": "stdout",
     "output_type": "stream",
     "text": [
      "Here are 3 key sentences summarizing Richard Feynman's life:\n",
      "\n",
      "1. Richard Feynman was a brilliant physicist born in 1918 in Queens, New York, who showed early aptitude for science and engineering, eventually earning his PhD from Princeton in 1942.\n",
      "\n",
      "2. During World War II, he made significant contributions to the Manhattan Project at Los Alamos, where he was known both for his scientific creativity and his playful habit of picking locks to demonstrate security flaws.\n",
      "\n",
      "3. After the war, he became a renowned professor at Caltech, won the 1965 Nobel Prize in Physics for his work on quantum electrodynamics, created the famous Feynman Lectures on Physics, and served on the commission investigating the Challenger disaster before his death in 1988.\n"
     ]
    }
   ],
   "source": [
    "model = init_chat_model(\"claude-opus-4-20250514\", max_tokens=32_000)\n",
    "\n",
    "summarizer = (\n",
    "    create_stuff_documents_chain(\n",
    "        model, \n",
    "        prompt=\"Summarize the contents into 3 key sentences.\"\n",
    "    )\n",
    "    .compile(name='summarize')\n",
    ")\n",
    "\n",
    "print(summarizer.invoke({\"documents\": documents})['result'])"
   ]
  },
  {
   "cell_type": "markdown",
   "id": "aab1b929-ddb9-4ceb-a74c-1b2bb830ef31",
   "metadata": {},
   "source": [
    "## Structured summary"
   ]
  },
  {
   "cell_type": "code",
   "execution_count": 4,
   "id": "9c96df90-0a3e-43cc-8606-a394b1cb6381",
   "metadata": {},
   "outputs": [
    {
     "name": "stdout",
     "output_type": "stream",
     "text": [
      "Title: Richard Feynman: Pioneering Physicist and Nobel Laureate\n",
      " * Born May 11, 1918, in Queens, New York, Feynman showed early aptitude for science and engineering, earning money repairing radios as a teenager (1)\n",
      " * Completed undergraduate studies at MIT and earned PhD in physics from Princeton University in 1942, impressing colleagues with his problem-solving abilities (1)\n",
      " * Worked on the Manhattan Project at Los Alamos Laboratory during WWII under Hans Bethe, contributing to the development of the atomic bomb (1, 2)\n",
      " * Known for his creativity and humor at Los Alamos, including his habit of picking locks and cracking safes to demonstrate security vulnerabilities (2)\n",
      " * Won the 1965 Nobel Prize in Physics for quantum electrodynamics work, shared with Julian Schwinger and Sin-Itiro Tomonaga (3)\n",
      " * Taught at Cornell University and Caltech, creating the influential Feynman Lectures on Physics that remain widely used today (3)\n",
      " * Served on the Rogers Commission investigating the 1986 Space Shuttle Challenger disaster (3)\n",
      " * Died February 15, 1988, in Los Angeles, California, after battling cancer (3)\n"
     ]
    }
   ],
   "source": [
    "from pydantic import BaseModel, Field\n",
    "from typing import Optional, List\n",
    "\n",
    "class BulletPoint(BaseModel):\n",
    "    \"\"\"Represents a single key idea with supporting document references.\"\"\"\n",
    "    content: str = Field(description=\"A concise bullet point summarizing a key idea.\")\n",
    "    source_doc_ids: List[str] = Field(default_factory=list, description=\"Document IDs supporting this bullet point.\")\n",
    "\n",
    "class StructuredSummary(BaseModel):\n",
    "    \"\"\"Structured summary including a title and supporting bullet points.\"\"\"\n",
    "    title: str = Field(description=\"A concise title summarizing the main theme.\")\n",
    "    bullet_points: List[BulletPoint] = Field(description=\"List of bullet points with supporting document references.\")\n",
    "\n",
    "model = init_chat_model(\"claude-opus-4-20250514\", max_tokens=32_000)\n",
    "\n",
    "chain = (\n",
    "    create_stuff_documents_chain(\n",
    "        model,\n",
    "        response_format=StructuredSummary,\n",
    "    )\n",
    "    .compile(name='structured_summary_extractor')\n",
    ")\n",
    "\n",
    "structured_summary = chain.invoke({\"documents\": documents})['result']\n",
    "\n",
    "print(f\"Title: {structured_summary.title}\")\n",
    "\n",
    "for bullet_point in structured_summary.bullet_points:\n",
    "    if not bullet_point.source_doc_ids:\n",
    "        continue\n",
    "    sources = ', '.join(bullet_point.source_doc_ids)\n",
    "    print(f\" * {bullet_point.content} ({sources})\")\n"
   ]
  },
  {
   "cell_type": "markdown",
   "id": "781bb94a-d043-4d47-a02b-619e7826fd93",
   "metadata": {},
   "source": [
    "## Extraction"
   ]
  },
  {
   "cell_type": "code",
   "execution_count": 5,
   "id": "273f6c13-04d6-4ddb-b339-044a36e90129",
   "metadata": {},
   "outputs": [
    {
     "name": "stdout",
     "output_type": "stream",
     "text": [
      "Extracted facts that have dates:\n",
      " *  on 1918-05-11: Born in Queens, New York (sources: 1)\n",
      " *  on 1942: PhD from Princeton University (sources: 1)\n",
      " *  on 1965: Won Nobel Prize in Physics (sources: 3)\n",
      " *  on 1986: Served on Rogers Commission (sources: 3)\n",
      " *  on 1988-02-15: Died in Los Angeles, California (sources: 3)\n"
     ]
    }
   ],
   "source": [
    "from pydantic import BaseModel, Field\n",
    "from typing import Optional, List\n",
    "\n",
    "class Fact(BaseModel):\n",
    "    \"\"\"Fact about Richard Feynman.\"\"\"\n",
    "    content: str = Field(description=\"The content of the fact. No more than a few words.\")\n",
    "    iso_8601_date: Optional[str] = Field(default=None, description=\"The date associated with the fact if available. Formatted as YYYY-MM-DD.\")\n",
    "    source_doc_ids: List[str] = Field(default_factory=list, description=\"The document or documents in which the fact appeared.\")\n",
    "\n",
    "class Data(BaseModel):\n",
    "    \"\"\"Facts to extract\"\"\"\n",
    "    facts: List[Fact]\n",
    "\n",
    "model = init_chat_model(\"claude-opus-4-20250514\", max_tokens=32_000)\n",
    "\n",
    "chain = (\n",
    "    create_stuff_documents_chain(\n",
    "        model,\n",
    "        response_format=Data,\n",
    "    )\n",
    "    .compile(name='fact_extractor')\n",
    ")\n",
    "\n",
    "fact_data = chain.invoke({\"documents\": documents})['result']\n",
    "\n",
    "print(\"Extracted facts that have dates:\")\n",
    "for fact in fact_data.facts:\n",
    "    if not fact.source_doc_ids:\n",
    "        continue\n",
    "    if not fact.iso_8601_date:\n",
    "        continue\n",
    "    date_str = f\" on {fact.iso_8601_date}\" if fact.iso_8601_date else \"\"\n",
    "    sources = ', '.join(fact.source_doc_ids)\n",
    "    print(f\" * {date_str}: {fact.content} (sources: {sources})\")\n"
   ]
  },
  {
   "cell_type": "code",
   "execution_count": null,
   "id": "2a530c10-7d4a-49a9-837d-855cebf35752",
   "metadata": {},
   "outputs": [],
   "source": []
  }
 ],
 "metadata": {
  "kernelspec": {
   "display_name": "Python 3 (ipykernel)",
   "language": "python",
   "name": "python3"
  },
  "language_info": {
   "codemirror_mode": {
    "name": "ipython",
    "version": 3
   },
   "file_extension": ".py",
   "mimetype": "text/x-python",
   "name": "python",
   "nbconvert_exporter": "python",
   "pygments_lexer": "ipython3",
   "version": "3.12.8"
  }
 },
 "nbformat": 4,
 "nbformat_minor": 5
}
