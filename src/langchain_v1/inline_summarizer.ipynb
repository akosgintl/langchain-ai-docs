{
 "cells": [
  {
   "cell_type": "code",
   "execution_count": 3,
   "id": "425ca669-9caa-4bea-a1e7-fab8e95210d8",
   "metadata": {},
   "outputs": [],
   "source": [
    "from langchain_core.documents import Document\n",
    "\n",
    "from langchain.chains import summarization\n",
    "from langchain.chat_models import init_chat_model"
   ]
  },
  {
   "cell_type": "code",
   "execution_count": 2,
   "id": "15301db9-26cf-4da9-8d74-cd6eabef5b04",
   "metadata": {},
   "outputs": [
    {
     "ename": "AttributeError",
     "evalue": "module 'langchain.chains.summarization' has no attribute 'InlineSummarizer'",
     "output_type": "error",
     "traceback": [
      "\u001b[31m---------------------------------------------------------------------------\u001b[39m",
      "\u001b[31mAttributeError\u001b[39m                            Traceback (most recent call last)",
      "\u001b[36mCell\u001b[39m\u001b[36m \u001b[39m\u001b[32mIn[2]\u001b[39m\u001b[32m, line 4\u001b[39m\n\u001b[32m      1\u001b[39m model = init_chat_model(\u001b[33m\"\u001b[39m\u001b[33mclaude-opus-4-20250514\u001b[39m\u001b[33m\"\u001b[39m)\n\u001b[32m      3\u001b[39m summarizer = (\n\u001b[32m----> \u001b[39m\u001b[32m4\u001b[39m     \u001b[43msummarization\u001b[49m\u001b[43m.\u001b[49m\u001b[43mInlineSummarizer\u001b[49m(model, prompt=\u001b[33m\"\u001b[39m\u001b[33mProduce a summary in french\u001b[39m\u001b[33m\"\u001b[39m)\n\u001b[32m      5\u001b[39m     .build()\n\u001b[32m      6\u001b[39m     .compile()\n\u001b[32m      7\u001b[39m )\n",
      "\u001b[31mAttributeError\u001b[39m: module 'langchain.chains.summarization' has no attribute 'InlineSummarizer'"
     ]
    }
   ],
   "source": [
    "model = init_chat_model(\"claude-opus-4-20250514\")\n",
    "\n",
    "summarizer = (\n",
    "    summarization.InlineSummarizer(model, prompt=\"Produce a summary in french\")\n",
    "    .build()\n",
    "    .compile()\n",
    ")"
   ]
  },
  {
   "cell_type": "code",
   "execution_count": 3,
   "id": "3488cf7a-1e7b-4d0a-83bc-307f10ce0344",
   "metadata": {},
   "outputs": [],
   "source": [
    "documents = [\n",
    "    Document(\n",
    "        page_content=\"\"\"\n",
    "Synthetic fuels—produced from captured carbon and green hydrogen—are gaining traction in aviation. The EU’s “ReFuelEU” mandate requires increasing blends of sustainable aviation fuel (SAF) starting in 2025. Airbus and Rolls-Royce have completed long-haul test flights powered entirely by synthetic kerosene. However, current production is less than 0.1% of global jet fuel demand, and costs remain 3–5x higher than fossil alternatives.\n",
    "\n",
    "New refineries are under construction in Norway, Chile, and Texas. Analysts expect rapid scaling between 2026–2030 as demand certainty from mandates intersects with cheaper electrolyzer technology. Airlines like Lufthansa and United are signing multi-year offtake agreements, often at fixed above-market prices, to secure early access.\n",
    "\"\"\",\n",
    "        metadata={\"source\": \"synthetic_fuel_aviation\"},\n",
    "    ),\n",
    "    Document(\n",
    "        page_content=\"\"\"\n",
    "AI is accelerating early-stage drug discovery, especially in target identification and molecule generation. Platforms like BenevolentAI and Insilico Medicine have generated preclinical candidates using generative models trained on biological and chemical data. However, the biggest bottleneck is not compute—it’s high-quality training data. Much of the biomedical literature is unstructured, biased, or contradictory.\n",
    "\n",
    "To address this, some startups are partnering with CROs (contract research organizations) to generate clean, proprietary datasets. Others are building large-scale knowledge graphs across modalities—genomics, imaging, EMRs—enabling more robust model fine-tuning. The FDA has begun pilot programs to assess how AI-generated candidates can be validated through adaptive trial design.\n",
    "\"\"\",\n",
    "        metadata={\"source\": \"ai_drug_discovery\"},\n",
    "    ),\n",
    "    Document(\n",
    "        page_content=\"\"\"\n",
    "Small modular reactors (SMRs) are gaining attention as a scalable nuclear option for future grids. Unlike traditional plants, SMRs are factory-built, with designs that reduce capital risk and allow for phased deployment. Countries including Canada, Poland, and the UK have committed to SMR pilot projects. NuScale received the first-ever U.S. NRC certification for its design in 2023.\n",
    "\n",
    "The challenge lies in financing and regulatory friction. While the tech is mature, each deployment requires bespoke siting approvals. Critics argue that grid-scale renewables and battery storage will outcompete SMRs on price. Still, utilities facing baseload shortfalls—especially those decommissioning coal plants—are exploring SMRs as replacement assets with better public acceptance than legacy nuclear.\n",
    "\"\"\",\n",
    "        metadata={\"source\": \"modular_nuclear_reactors\"},\n",
    "    ),\n",
    "    Document(\n",
    "        page_content=\"\"\"\n",
    "Vertical farming startups are shifting from premium greens to calorie crops like wheat and potatoes. Recent advances in LED efficiency and robotic harvesting have cut production costs by 40% over five years. Some companies now claim cost parity with traditional field-grown produce—especially when factoring in water savings and proximity to urban markets.\n",
    "\n",
    "However, energy use remains a concern. Large facilities still consume significant power, and most are not yet net-zero. Policy incentives in places like Singapore and the UAE are accelerating deployment, especially in food-insecure regions. In the U.S., real estate economics and regional energy prices dictate whether vertical farming is viable at scale.\n",
    "\"\"\",\n",
    "        metadata={\"source\": \"vertical_farming\"},\n",
    "    ),\n",
    "    Document(\n",
    "        page_content=\"\"\"\n",
    "As EV demand surges, lithium production is becoming a geopolitical chokepoint. Traditional extraction via evaporation ponds takes months and is limited to specific geographies. Direct lithium extraction (DLE) technologies aim to recover lithium faster and from more varied sources, including oilfield brines and geothermal plants.\n",
    "\n",
    "Early pilots in Argentina and Utah show promise, with extraction times cut to hours and recovery rates above 85%. However, energy intensity and water usage vary widely depending on method. Major auto OEMs like GM and Ford have signed early agreements with DLE startups, aiming to secure supply without exposure to legacy mining delays or ESG blowback.\n",
    "\"\"\",\n",
    "        metadata={\"source\": \"direct_lithium_extraction\"},\n",
    "    ),\n",
    "]"
   ]
  },
  {
   "cell_type": "code",
   "execution_count": 4,
   "id": "265349ed-4d7a-496b-8d13-869401fb7afe",
   "metadata": {},
   "outputs": [],
   "source": [
    "output = summarizer.invoke({\"documents\": documents})"
   ]
  },
  {
   "cell_type": "code",
   "execution_count": 5,
   "id": "abb40de0-8e75-4af9-afe3-24bdd3de21a2",
   "metadata": {},
   "outputs": [],
   "source": [
    "from IPython.display import Markdown"
   ]
  },
  {
   "cell_type": "code",
   "execution_count": 6,
   "id": "d1787872-841f-42d8-ac61-ba49b89c2577",
   "metadata": {},
   "outputs": [
    {
     "data": {
      "text/markdown": [
       "**Résumé des innovations technologiques émergentes**\n",
       "\n",
       "**Carburants synthétiques dans l'aviation**\n",
       "Les carburants synthétiques, produits à partir de carbone capturé et d'hydrogène vert, gagnent du terrain dans l'aviation. Le mandat européen \"ReFuelEU\" impose l'utilisation croissante de carburant d'aviation durable (SAF) dès 2025. Airbus et Rolls-Royce ont réalisé des vols long-courriers entièrement alimentés au kérosène synthétique. Cependant, la production actuelle représente moins de 0,1% de la demande mondiale et les coûts restent 3 à 5 fois supérieurs aux alternatives fossiles. De nouvelles raffineries sont en construction en Norvège, au Chili et au Texas, avec une montée en puissance prévue entre 2026-2030.\n",
       "\n",
       "**IA dans la découverte pharmaceutique**\n",
       "L'intelligence artificielle accélère la découverte de médicaments, notamment dans l'identification de cibles et la génération de molécules. Des plateformes comme BenevolentAI utilisent des modèles génératifs, mais le principal obstacle reste la qualité des données d'entraînement. Pour y remédier, certaines startups s'associent à des organisations de recherche contractuelle pour générer des ensembles de données propriétaires. La FDA a lancé des programmes pilotes pour évaluer la validation des candidats générés par IA.\n",
       "\n",
       "**Petits réacteurs modulaires (SMR)**\n",
       "Les SMR attirent l'attention comme option nucléaire évolutive. Contrairement aux centrales traditionnelles, ils sont fabriqués en usine avec des designs réduisant les risques financiers. Le Canada, la Pologne et le Royaume-Uni se sont engagés dans des projets pilotes. NuScale a reçu la première certification américaine en 2023. Les défis restent le financement et les frictions réglementaires, bien que les services publics confrontés à des déficits de charge de base explorent cette option.\n",
       "\n",
       "**Agriculture verticale**\n",
       "Les startups d'agriculture verticale passent des légumes premium aux cultures caloriques comme le blé et les pommes de terre. Les progrès en efficacité LED et récolte robotisée ont réduit les coûts de production de 40% en cinq ans. Certaines entreprises revendiquent la parité des coûts avec l'agriculture traditionnelle. Cependant, la consommation énergétique reste préoccupante, et la viabilité dépend largement des incitations politiques et des économies régionales.\n",
       "\n",
       "**Extraction directe du lithium**\n",
       "Face à la demande croissante de véhicules électriques, la production de lithium devient un enjeu géopolitique. Les technologies d'extraction directe du lithium (DLE) visent à récupérer le lithium plus rapidement et de sources plus variées. Les projets pilotes en Argentine et dans l'Utah montrent des résultats prometteurs avec des temps d'extraction réduits à quelques heures et des taux de récupération supérieurs à 85%. Les grands constructeurs automobiles comme GM et Ford ont signé des accords avec des startups DLE pour sécuriser leur approvisionnement."
      ],
      "text/plain": [
       "<IPython.core.display.Markdown object>"
      ]
     },
     "execution_count": 6,
     "metadata": {},
     "output_type": "execute_result"
    }
   ],
   "source": [
    "Markdown(output[\"summary\"])"
   ]
  },
  {
   "cell_type": "code",
   "execution_count": null,
   "id": "a6f70faa-7ced-4bf6-b79b-a5372786da01",
   "metadata": {},
   "outputs": [],
   "source": []
  }
 ],
 "metadata": {
  "kernelspec": {
   "display_name": "Python 3 (ipykernel)",
   "language": "python",
   "name": "python3"
  },
  "language_info": {
   "codemirror_mode": {
    "name": "ipython",
    "version": 3
   },
   "file_extension": ".py",
   "mimetype": "text/x-python",
   "name": "python",
   "nbconvert_exporter": "python",
   "pygments_lexer": "ipython3",
   "version": "3.12.8"
  }
 },
 "nbformat": 4,
 "nbformat_minor": 5
}
