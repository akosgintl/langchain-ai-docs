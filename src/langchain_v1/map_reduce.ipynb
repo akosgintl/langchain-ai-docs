{
 "cells": [
  {
   "cell_type": "code",
   "execution_count": 1,
   "id": "79d8b593-724e-46be-b24d-b4f1d5d9e353",
   "metadata": {},
   "outputs": [],
   "source": [
    "%load_ext autoreload\n",
    "%autoreload 2"
   ]
  },
  {
   "cell_type": "code",
   "execution_count": 4,
   "id": "aae93f68-f7de-49c0-a9ce-f884b29ff7cc",
   "metadata": {},
   "outputs": [],
   "source": [
    "from typing import Optional\n",
    "\n",
    "from langchain_core.documents import Document\n",
    "from pydantic import BaseModel, Field, RootModel\n",
    "\n",
    "from langchain.chains.summarization.map_reduce import create_map_reduce_extractor\n",
    "\n",
    "# from langchain.extraction import create_batch_extractor, create_parallel_extractor\n",
    "from langchain.chat_models import init_chat_model\n",
    "\n",
    "\n",
    "class Person(BaseModel):\n",
    "    \"\"\"Person to extract.\"\"\"\n",
    "\n",
    "    name: str\n",
    "    age: Optional[str] = None\n",
    "    hair_color: Optional[str] = None\n",
    "    source_doc_ids: list[str] = Field(\n",
    "        default=[],\n",
    "        description=\"The IDs of the documents where the information was found.\",\n",
    "    )\n",
    "\n",
    "\n",
    "class PeopleRoot(BaseModel):\n",
    "    people: list[Person] = []"
   ]
  },
  {
   "cell_type": "code",
   "execution_count": 5,
   "id": "ffaa45f3-4531-48c2-b229-fc51bdee328c",
   "metadata": {},
   "outputs": [],
   "source": [
    "People = RootModel(list[Person])\n",
    "\n",
    "documents = [\n",
    "    Document(\n",
    "        id=\"1\",\n",
    "        page_content=\"\"\"Bobby Luka was 10 years old.\n",
    "Synthetic fuels—produced from captured carbon and green hydrogen—are gaining traction in aviation. The EU’s “ReFuelEU” mandate requires increasing blends of sustainable aviation fuel (SAF) starting in 2025. Airbus and Rolls-Royce have completed long-haul test flights powered entirely by synthetic kerosene. However, current production is less than 0.1% of global jet fuel demand, and costs remain 3–5x higher than fossil alternatives.\n",
    "\n",
    "New refineries are under construction in Norway, Chile, and Texas. Analysts expect rapid scaling between 2026–2030 as demand certainty from mandates intersects with cheaper electrolyzer technology. Airlines like Lufthansa and United are signing multi-year offtake agreements, often at fixed above-market prices, to secure early access.\n",
    "\"\"\",\n",
    "        metadata={\"source\": \"synthetic_fuel_aviation\"},\n",
    "    ),\n",
    "    Document(\n",
    "        id=\"2\",\n",
    "        page_content=\"\"\"\n",
    "AI is accelerating early-stage drug discovery, especially in target identification and molecule generation. Platforms like BenevolentAI and Insilico Medicine have generated preclinical candidates using generative models trained on biological and chemical data. However, the biggest bottleneck is not compute—it’s high-quality training data. Much of the biomedical literature is unstructured, biased, or contradictory.\n",
    "\n",
    "To address this, some startups are partnering with CROs (contract research organizations) to generate clean, proprietary datasets. Others are building large-scale knowledge graphs across modalities—genomics, imaging, EMRs—enabling more robust model fine-tuning. The FDA has begun pilot programs to assess how AI-generated candidates can be validated through adaptive trial design.\n",
    "\"\"\",\n",
    "        metadata={\"source\": \"ai_drug_discovery\"},\n",
    "    ),\n",
    "    Document(\n",
    "        page_content=\"\"\"\n",
    "I love to eat tomatoes!!!!!\n",
    "\"\"\",\n",
    "        metadata={\"source\": \"ai_drug_discovery\"},\n",
    "    ),\n",
    "    Document(\n",
    "        id=\"3\",\n",
    "        page_content=\"\"\"Jack Johnson was 23 years old and blonde.\n",
    "AI is accelerating early-stage drug discovery, especially in target identification and molecule generation. Platforms like BenevolentAI and Insilico Medicine have generated preclinical candidates using generative models trained on biological and chemical data. However, the biggest bottleneck is not compute—it’s high-quality training data. Much of the biomedical literature is unstructured, biased, or contradictory.\n",
    "\n",
    "To address this, some startups are partnering with CROs (contract research organizations) to generate clean, proprietary datasets. Others are building large-scale knowledge graphs across modalities—genomics, imaging, EMRs—enabling more robust model fine-tuning. The FDA has begun pilot programs to assess how AI-generated candidates can be validated through adaptive trial design.\n",
    "\n",
    "Bobby Luka's hair is brown.\n",
    "\"\"\",\n",
    "        metadata={\"source\": \"ai_drug_discovery\"},\n",
    "    ),\n",
    "]\n",
    "\n",
    "\n",
    "model = init_chat_model(\"claude-opus-4-20250514\")\n",
    "summarizer = create_map_reduce_extractor(\n",
    "    model,\n",
    "    response_format=PeopleRoot,\n",
    ").compile(name=\"MapReducerExtractor\")\n",
    "\n",
    "\n",
    "output = summarizer.invoke({\"documents\": documents})"
   ]
  },
  {
   "cell_type": "code",
   "execution_count": 6,
   "id": "82d868cb-a9dc-4be3-b48e-1cb6e3f1d7b0",
   "metadata": {},
   "outputs": [
    {
     "data": {
      "text/plain": [
       "[{'indexes': [0],\n",
       "  'result': PeopleRoot(people=[Person(name='Bobby Luka', age='10', hair_color=None, source_doc_ids=['1'])])},\n",
       " {'indexes': [1], 'result': PeopleRoot(people=[])},\n",
       " {'indexes': [2], 'result': PeopleRoot(people=[])},\n",
       " {'indexes': [3],\n",
       "  'result': PeopleRoot(people=[Person(name='Jack Johnson', age='23', hair_color='blonde', source_doc_ids=['3']), Person(name='Bobby Luka', age=None, hair_color='brown', source_doc_ids=['3'])])}]"
      ]
     },
     "execution_count": 6,
     "metadata": {},
     "output_type": "execute_result"
    }
   ],
   "source": [
    "output[\"results\"]"
   ]
  },
  {
   "cell_type": "code",
   "execution_count": 8,
   "id": "f5a38106-7f29-4209-b6ff-cba0eb0efa0d",
   "metadata": {},
   "outputs": [
    {
     "data": {
      "text/plain": [
       "PeopleRoot(people=[Person(name='Bobby Luka', age='10', hair_color='brown', source_doc_ids=['1', '3']), Person(name='Jack Johnson', age='23', hair_color='blonde', source_doc_ids=['3'])])"
      ]
     },
     "execution_count": 8,
     "metadata": {},
     "output_type": "execute_result"
    }
   ],
   "source": [
    "output[\"result\"]"
   ]
  },
  {
   "cell_type": "markdown",
   "id": "e75c1193-1eeb-4a7e-b5bd-8a59465443f5",
   "metadata": {},
   "source": [
    "# Sequential extraction"
   ]
  },
  {
   "cell_type": "code",
   "execution_count": 15,
   "id": "be64cbd8-8664-412a-8097-fe4fd4f674bb",
   "metadata": {},
   "outputs": [],
   "source": [
    "documents = [\n",
    "    Document(\n",
    "        id=\"1\",\n",
    "        page_content=\"\"\"Bobby Luka was 10 years old.\n",
    "Synthetic fuels—produced from captured carbon and green hydrogen—are gaining traction in aviation. The EU’s “ReFuelEU” mandate requires increasing blends of sustainable aviation fuel (SAF) starting in 2025. Airbus and Rolls-Royce have completed long-haul test flights powered entirely by synthetic kerosene. However, current production is less than 0.1% of global jet fuel demand, and costs remain 3–5x higher than fossil alternatives.\n",
    "\n",
    "New refineries are under construction in Norway, Chile, and Texas. Analysts expect rapid scaling between 2026–2030 as demand certainty from mandates intersects with cheaper electrolyzer technology. Airlines like Lufthansa and United are signing multi-year offtake agreements, often at fixed above-market prices, to secure early access.\n",
    "\"\"\",\n",
    "        metadata={\"source\": \"synthetic_fuel_aviation\"},\n",
    "    ),\n",
    "    Document(\n",
    "        id=\"2\",\n",
    "        page_content=\"\"\"\n",
    "AI is accelerating early-stage drug discovery, especially in target identification and molecule generation. Platforms like BenevolentAI and Insilico Medicine have generated preclinical candidates using generative models trained on biological and chemical data. However, the biggest bottleneck is not compute—it’s high-quality training data. Much of the biomedical literature is unstructured, biased, or contradictory.\n",
    "\n",
    "To address this, some startups are partnering with CROs (contract research organizations) to generate clean, proprietary datasets. Others are building large-scale knowledge graphs across modalities—genomics, imaging, EMRs—enabling more robust model fine-tuning. The FDA has begun pilot programs to assess how AI-generated candidates can be validated through adaptive trial design.\n",
    "\"\"\",\n",
    "        metadata={\"source\": \"ai_drug_discovery\"},\n",
    "    ),\n",
    "    Document(\n",
    "        page_content=\"\"\"\n",
    "I love to eat tomatoes!!!!!\n",
    "\"\"\",\n",
    "        metadata={\"source\": \"ai_drug_discovery\"},\n",
    "    ),\n",
    "    Document(\n",
    "        id=\"3\",\n",
    "        page_content=\"\"\"Jack Johnson was 23 years old and blonde.\n",
    "AI is accelerating early-stage drug discovery, especially in target identification and molecule generation. Platforms like BenevolentAI and Insilico Medicine have generated preclinical candidates using generative models trained on biological and chemical data. However, the biggest bottleneck is not compute—it’s high-quality training data. Much of the biomedical literature is unstructured, biased, or contradictory.\n",
    "\n",
    "To address this, some startups are partnering with CROs (contract research organizations) to generate clean, proprietary datasets. Others are building large-scale knowledge graphs across modalities—genomics, imaging, EMRs—enabling more robust model fine-tuning. The FDA has begun pilot programs to assess how AI-generated candidates can be validated through adaptive trial design.\n",
    "\n",
    "Bobby Luka's hair is brown.\n",
    "\"\"\",\n",
    "        metadata={\"source\": \"ai_drug_discovery\"},\n",
    "    ),\n",
    "]"
   ]
  },
  {
   "cell_type": "code",
   "execution_count": 16,
   "id": "19c70ec2-0142-43e4-95bd-745c66716149",
   "metadata": {},
   "outputs": [],
   "source": [
    "from typing import Optional\n",
    "\n",
    "from langchain_core.documents import Document\n",
    "from pydantic import BaseModel, Field\n",
    "\n",
    "from langchain.chains.summarization import create_summarizer\n",
    "from langchain.chat_models import init_chat_model\n",
    "\n",
    "\n",
    "class Person(BaseModel):\n",
    "    \"\"\"Person to extract.\"\"\"\n",
    "\n",
    "    name: str\n",
    "    age: Optional[str] = None\n",
    "    hair_color: Optional[str] = None\n",
    "    source_doc_ids: list[str] = Field(\n",
    "        default=[],\n",
    "        description=\"The IDs of the documents where the information was found.\",\n",
    "    )\n",
    "\n",
    "\n",
    "class PeopleRoot(BaseModel):\n",
    "    people: list[Person]\n",
    "\n",
    "\n",
    "model = init_chat_model(\"claude-opus-4-20250514\")\n",
    "\n",
    "summarizer = create_summarizer(\n",
    "    model,\n",
    "    initial_prompt=\"Extract information from the text to match the expected output format.\",\n",
    "    refine_prompt=\"You are responsible for updating extracted information. The currently extracted information is provided in the context. Make sure to carry it forward and / or update it with any new found facts in the given text. Also if there's ne winformation that should be extracted in the given text please do so.\",\n",
    "    response_format=PeopleRoot,\n",
    "    strategy=\"batch\",\n",
    ").compile(name=\"Summarizer\")\n",
    "\n",
    "output = summarizer.invoke({\"documents\": documents})\n",
    "output"
   ]
  },
  {
   "cell_type": "code",
   "execution_count": 17,
   "id": "c5a37fb5-97ba-4303-a927-c4a9f4ed557f",
   "metadata": {},
   "outputs": [
    {
     "data": {
      "text/plain": [
       "{'result': PeopleRoot(people=[Person(name='Bobby Luka', age='10', hair_color='brown', source_doc_ids=['1', '3']), Person(name='Jack Johnson', age='23', hair_color='blonde', source_doc_ids=['3'])])}"
      ]
     },
     "execution_count": 17,
     "metadata": {},
     "output_type": "execute_result"
    }
   ],
   "source": [
    "output"
   ]
  }
 ],
 "metadata": {
  "kernelspec": {
   "display_name": "Python 3 (ipykernel)",
   "language": "python",
   "name": "python3"
  },
  "language_info": {
   "codemirror_mode": {
    "name": "ipython",
    "version": 3
   },
   "file_extension": ".py",
   "mimetype": "text/x-python",
   "name": "python",
   "nbconvert_exporter": "python",
   "pygments_lexer": "ipython3",
   "version": "3.12.8"
  }
 },
 "nbformat": 4,
 "nbformat_minor": 5
}
