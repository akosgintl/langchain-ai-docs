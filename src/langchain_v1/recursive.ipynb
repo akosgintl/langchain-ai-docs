{
 "cells": [
  {
   "attachments": {},
   "cell_type": "markdown",
   "id": "57ad9ff9-68b6-47ef-842e-4254177b8028",
   "metadata": {},
   "source": [
    "---\n",
    "title: \"Recursive\"\n",
    "icon: \"arrows-spin\"\n",
    "---\n",
    "\n",
    "\n",
    "\n",
    "```mermaid\n",
    "graph TD\n",
    "    %% Level 0 - Original Docs\n",
    "    A1[Doc1] --> B1[Sum1]\n",
    "    A2[Doc2] --> B2[Sum2]\n",
    "    A3[Doc3] --> B3[Sum3]\n",
    "    A4[Doc4] --> B4[Sum4]\n",
    "    A5[Doc5] --> B5[Sum5]\n",
    "    A6[Doc6] --> B6[Sum6]\n",
    "    A7[Doc7] --> B7[Sum7]\n",
    "    A8[Doc8] --> B8[Sum8]\n",
    "\n",
    "    %% Level 1 - First Combines\n",
    "    B1 --> C1[CombSum1]\n",
    "    B2 --> C1\n",
    "    B3 --> C2[CombSum2]\n",
    "    B4 --> C2\n",
    "    B5 --> C3[CombSum3]\n",
    "    B6 --> C3\n",
    "    B7 --> C4[CombSum4]\n",
    "    B8 --> C4\n",
    "\n",
    "    %% Level 2 - Mega Combines\n",
    "    C1 --> D1[MegaSum1]\n",
    "    C2 --> D1\n",
    "    C3 --> D2[MegaSum2]\n",
    "    C4 --> D2\n",
    "\n",
    "    %% Level 3 - Final Summary\n",
    "    D1 --> E[FINAL_SUMMARY]\n",
    "    D2 --> E\n",
    "```\n",
    "\n",
    "\n",
    "## Example dataset\n",
    "\n",
    "\n",
    "This text is sourced from [Project Gutenberg](https://www.gutenberg.org/ebooks/2600) and is in the public domain. Redistribution is permitted, but the following attribution must be preserved:\n",
    "\n",
    "> This eBook is for the use of anyone anywhere at no cost and with\n",
    "> almost no restrictions whatsoever. You may copy it, give it away or\n",
    "> re-use it under the terms of the Project Gutenberg License included\n",
    "> with this eBook or online at [www.gutenberg.org](https://www.gutenberg.org).\n",
    ">\n",
    "> Public domain text provided by Project Gutenberg:\n",
    "> [https://www.gutenberg.org/ebooks/2600](https://www.gutenberg.org/ebooks/2600)\n",
    "\n",
    "\n"
   ]
  },
  {
   "cell_type": "code",
   "execution_count": 5,
   "id": "b7b505b7-0118-43a6-8c56-0c3a81636533",
   "metadata": {},
   "outputs": [
    {
     "name": "stdout",
     "output_type": "stream",
     "text": [
      "File 'war_and_peace_gutenberg.txt' already exists. Skipping download.\n"
     ]
    }
   ],
   "source": [
    "from pathlib import Path\n",
    "import requests\n",
    "\n",
    "# URL of the plain text file from Project Gutenberg\n",
    "url = \"https://www.gutenberg.org/cache/epub/1184/pg1184.txt\"\n",
    "output_path = Path(\"war_and_peace_gutenberg.txt\")\n",
    "\n",
    "# Check if file already exists\n",
    "if output_path.exists():\n",
    "    print(f\"File '{output_path}' already exists. Skipping download.\")\n",
    "else:\n",
    "    response = requests.get(url)\n",
    "    if response.status_code == 200:\n",
    "        output_path.write_text(response.text + attribution, encoding=\"utf-8\")\n",
    "        print(f\"Downloaded and saved to '{output_path}' with attribution.\")\n",
    "    else:\n",
    "        print(f\"Failed to download. Status code: {response.status_code}\")\n"
   ]
  },
  {
   "cell_type": "code",
   "execution_count": 31,
   "id": "96e32c70-4e90-4340-a92f-6758dab9c390",
   "metadata": {},
   "outputs": [],
   "source": [
    "from langchain.documents import Document"
   ]
  },
  {
   "cell_type": "code",
   "execution_count": 32,
   "id": "813a1aca-cdba-40f0-aba1-9ae92f119e46",
   "metadata": {},
   "outputs": [],
   "source": [
    "text = output_path.read_text()"
   ]
  },
  {
   "cell_type": "code",
   "execution_count": 33,
   "id": "72432c2e-bea4-4b70-8b97-0059d7b146cb",
   "metadata": {},
   "outputs": [],
   "source": [
    "from langchain_text_splitters import RecursiveCharacterTextSplitter\n",
    "splitter = RecursiveCharacterTextSplitter(chunk_size=100_000)"
   ]
  },
  {
   "cell_type": "code",
   "execution_count": 34,
   "id": "1c2c45b8-c3a7-48d4-9e48-333be73c46c1",
   "metadata": {},
   "outputs": [],
   "source": [
    "texts = splitter.split_text(text)"
   ]
  },
  {
   "cell_type": "code",
   "execution_count": 35,
   "id": "b09885cb-7079-41ac-b087-6a148d4dd708",
   "metadata": {},
   "outputs": [
    {
     "data": {
      "text/plain": [
       "27"
      ]
     },
     "execution_count": 35,
     "metadata": {},
     "output_type": "execute_result"
    }
   ],
   "source": [
    "len(texts)\n"
   ]
  },
  {
   "cell_type": "code",
   "execution_count": 12,
   "id": "aae93f68-f7de-49c0-a9ce-f884b29ff7cc",
   "metadata": {},
   "outputs": [],
   "source": [
    "\n",
    "from langchain.chains.summarization import create_summarizer\n",
    "from langchain.chat_models import init_chat_model\n",
    "from langchain_core.documents import Document\n",
    "from pydantic import BaseModel, Field\n",
    "\n",
    "\n",
    "class Person(BaseModel):\n",
    "    \"\"\"Person to extract.\"\"\"\n",
    "\n",
    "    name: str\n",
    "    age: str | None = None\n",
    "    hair_color: str | None = None\n",
    "    source_doc_ids: list[str] = Field(\n",
    "        default=[],\n",
    "        description=\"The IDs of the documents where the information was found.\",\n",
    "    )\n",
    "\n",
    "\n",
    "class PeopleRoot(BaseModel):\n",
    "    people: list[Person]"
   ]
  },
  {
   "cell_type": "code",
   "execution_count": 13,
   "id": "ffaa45f3-4531-48c2-b229-fc51bdee328c",
   "metadata": {},
   "outputs": [],
   "source": [
    "# People = RootModel(list[Person])\n",
    "\n",
    "model = init_chat_model(\"claude-opus-4-20250514\")\n",
    "summarizer = create_summarizer(\n",
    "    model,\n",
    "    initial_prompt=\"Produce a summary in bullet with up to 3 bullets.\",\n",
    "    response_format=PeopleRoot,\n",
    ").compile(name=\"Refiner\")\n",
    "\n",
    "\n",
    "output = summarizer.invoke({\"documents\": documents})"
   ]
  }
 ],
 "metadata": {
  "kernelspec": {
   "display_name": "Python 3 (ipykernel)",
   "language": "python",
   "name": "python3"
  },
  "language_info": {
   "codemirror_mode": {
    "name": "ipython",
    "version": 3
   },
   "file_extension": ".py",
   "mimetype": "text/x-python",
   "name": "python",
   "nbconvert_exporter": "python",
   "pygments_lexer": "ipython3",
   "version": "3.12.8"
  }
 },
 "nbformat": 4,
 "nbformat_minor": 5
}
